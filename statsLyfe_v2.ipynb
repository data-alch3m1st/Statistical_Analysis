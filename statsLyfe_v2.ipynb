{
 "cells": [
  {
   "cell_type": "markdown",
   "metadata": {},
   "source": [
    "$I$ $didn't$ $choose$ $the$ $statsLyfe$ $-$ $the$ $statsLyfe$ $chose$ $me!$"
   ]
  },
  {
   "cell_type": "markdown",
   "metadata": {},
   "source": [
    "*Yes, I wrote the above in LaTeX ;)*\n",
    "\n",
    "**With that out of the way...**\n",
    "\n",
    "The purpose of this notebook is to be my own exploration into various Statistical Tests"
   ]
  },
  {
   "cell_type": "code",
   "execution_count": 1,
   "metadata": {},
   "outputs": [],
   "source": [
    "import pandas as pd\n",
    "import seaborn as sns\n",
    "import numpy as np\n",
    "\n",
    "import warnings \n",
    "warnings.simplefilter('ignore')\n",
    "\n",
    "from IPython.core.interactiveshell import InteractiveShell\n",
    "InteractiveShell.ast_node_interactivity = 'all'"
   ]
  },
  {
   "cell_type": "markdown",
   "metadata": {},
   "source": [
    "### ✅ 1. Chi-Squared Test (using `scipy.stats.chi2_contingency`)\n",
    "\n",
    "**Purpose:** Test independence between two categorical variables.\n",
    "\n",
    "**Dataset:** Titanic data from Seaborn"
   ]
  },
  {
   "cell_type": "code",
   "execution_count": 4,
   "metadata": {},
   "outputs": [
    {
     "data": {
      "text/html": [
       "<div>\n",
       "<style scoped>\n",
       "    .dataframe tbody tr th:only-of-type {\n",
       "        vertical-align: middle;\n",
       "    }\n",
       "\n",
       "    .dataframe tbody tr th {\n",
       "        vertical-align: top;\n",
       "    }\n",
       "\n",
       "    .dataframe thead th {\n",
       "        text-align: right;\n",
       "    }\n",
       "</style>\n",
       "<table border=\"1\" class=\"dataframe\">\n",
       "  <thead>\n",
       "    <tr style=\"text-align: right;\">\n",
       "      <th>survived</th>\n",
       "      <th>0</th>\n",
       "      <th>1</th>\n",
       "    </tr>\n",
       "    <tr>\n",
       "      <th>sex</th>\n",
       "      <th></th>\n",
       "      <th></th>\n",
       "    </tr>\n",
       "  </thead>\n",
       "  <tbody>\n",
       "    <tr>\n",
       "      <th>female</th>\n",
       "      <td>81</td>\n",
       "      <td>233</td>\n",
       "    </tr>\n",
       "    <tr>\n",
       "      <th>male</th>\n",
       "      <td>468</td>\n",
       "      <td>109</td>\n",
       "    </tr>\n",
       "  </tbody>\n",
       "</table>\n",
       "</div>"
      ],
      "text/plain": [
       "survived    0    1\n",
       "sex               \n",
       "female     81  233\n",
       "male      468  109"
      ]
     },
     "execution_count": 4,
     "metadata": {},
     "output_type": "execute_result"
    },
    {
     "name": "stdout",
     "output_type": "stream",
     "text": [
      "Chi-Squared Statistic: 260.71702016732104\n",
      "p-value: 1.1973570627755645e-58\n",
      "deg of frdm: 1\n"
     ]
    }
   ],
   "source": [
    "# A Contingency Table (crosstab) and Chi^2:\n",
    "\n",
    "from scipy.stats import chi2_contingency\n",
    "\n",
    "# Load Titanic dataset\n",
    "titanic = sns.load_dataset('titanic')\n",
    "\n",
    "# Create a contingency table of 'sex' vs 'survived'\n",
    "contingency_table = pd.crosstab(\n",
    "    titanic['sex'], titanic['survived'])\n",
    "\n",
    "# Chi-squared test\n",
    "chi2, p, dof, expected = chi2_contingency(\n",
    "    contingency_table)\n",
    "\n",
    "contingency_table\n",
    "\n",
    "print(\"Chi-Squared Statistic:\", chi2)\n",
    "print(\"p-value:\", p)\n",
    "print(\"deg of frdm:\", dof)"
   ]
  },
  {
   "cell_type": "markdown",
   "metadata": {},
   "source": [
    "### ✅ 2. Fisher's Exact Test (using `scipy.stats.fisher_exact`)\n",
    "\n",
    "**Purpose:** Test independence between two categorical variables in a **2x2** table.\n",
    "\n",
    "**Dataset:** Titanic (again, suitable for 2x2 test)"
   ]
  },
  {
   "cell_type": "code",
   "execution_count": 3,
   "metadata": {},
   "outputs": [
    {
     "data": {
      "text/html": [
       "<div>\n",
       "<style scoped>\n",
       "    .dataframe tbody tr th:only-of-type {\n",
       "        vertical-align: middle;\n",
       "    }\n",
       "\n",
       "    .dataframe tbody tr th {\n",
       "        vertical-align: top;\n",
       "    }\n",
       "\n",
       "    .dataframe thead th {\n",
       "        text-align: right;\n",
       "    }\n",
       "</style>\n",
       "<table border=\"1\" class=\"dataframe\">\n",
       "  <thead>\n",
       "    <tr style=\"text-align: right;\">\n",
       "      <th>survived</th>\n",
       "      <th>0</th>\n",
       "      <th>1</th>\n",
       "    </tr>\n",
       "    <tr>\n",
       "      <th>sex</th>\n",
       "      <th></th>\n",
       "      <th></th>\n",
       "    </tr>\n",
       "  </thead>\n",
       "  <tbody>\n",
       "    <tr>\n",
       "      <th>female</th>\n",
       "      <td>81</td>\n",
       "      <td>233</td>\n",
       "    </tr>\n",
       "    <tr>\n",
       "      <th>male</th>\n",
       "      <td>468</td>\n",
       "      <td>109</td>\n",
       "    </tr>\n",
       "  </tbody>\n",
       "</table>\n",
       "</div>"
      ],
      "text/plain": [
       "survived    0    1\n",
       "sex               \n",
       "female     81  233\n",
       "male      468  109"
      ]
     },
     "execution_count": 3,
     "metadata": {},
     "output_type": "execute_result"
    },
    {
     "name": "stdout",
     "output_type": "stream",
     "text": [
      "Odds Ratio: 0.08096731594585672\n",
      "p-value: 6.463921564583144e-60\n"
     ]
    }
   ],
   "source": [
    "# Fisher's Exact and computing an Odds Ratio:\n",
    "\n",
    "from scipy.stats import fisher_exact\n",
    "\n",
    "# Filter to only adults and drop NaNs\n",
    "data = titanic.dropna(subset=['sex', 'survived'])\n",
    "table = pd.crosstab(data['sex'], data['survived'])\n",
    "\n",
    "# Ensure it's a 2x2 table\n",
    "table = table.iloc[:2, :2]\n",
    "\n",
    "# Fisher's exact test\n",
    "odds_ratio, p_value = fisher_exact(table)\n",
    "\n",
    "table\n",
    "\n",
    "print(\"Odds Ratio:\", odds_ratio)\n",
    "print(\"p-value:\", p_value)"
   ]
  },
  {
   "cell_type": "code",
   "execution_count": 12,
   "metadata": {},
   "outputs": [
    {
     "name": "stdout",
     "output_type": "stream",
     "text": [
      "Fisher's Exact Table:\n",
      "\n",
      " SignificanceResult(statistic=0.08096731594585672, pvalue=6.463921564583144e-60)\n"
     ]
    }
   ],
   "source": [
    "print(\"Fisher's Exact Table:\\n\\n\",fisher_exact(table))"
   ]
  },
  {
   "cell_type": "markdown",
   "metadata": {},
   "source": [
    "### ✅ 3. T-Test (using `statsmodels.stats.api.ttest_ind`)\n",
    "\n",
    "**Purpose:** Compare means between two independent groups.\n",
    "\n",
    "**Dataset:** Penguins dataset (Seaborn)"
   ]
  },
  {
   "cell_type": "code",
   "execution_count": 6,
   "metadata": {},
   "outputs": [
    {
     "name": "stdout",
     "output_type": "stream",
     "text": [
      "T-statistic: -34.41495797176763\n",
      "p-value: 4.211309078100972e-101\n",
      "DoF: 272.0\n"
     ]
    }
   ],
   "source": [
    "import statsmodels.stats.api as sms\n",
    "import seaborn as sns\n",
    "\n",
    "# Load penguins dataset\n",
    "penguins = sns.load_dataset(\"penguins\")\n",
    "\n",
    "# Drop NA values for clean comparison\n",
    "penguins = penguins.dropna(\n",
    "    subset=['species', 'flipper_length_mm'])\n",
    "\n",
    "# Compare flipper lengths between Adelie and Gentoo penguins\n",
    "group1 = penguins[penguins['species'] == 'Adelie']['flipper_length_mm']\n",
    "group2 = penguins[penguins['species'] == 'Gentoo']['flipper_length_mm']\n",
    "\n",
    "# Perform t-test\n",
    "t_stat, p_value, dof = sms.ttest_ind(\n",
    "    group1, group2)\n",
    "\n",
    "print(\"T-statistic:\", t_stat)\n",
    "print(\"p-value:\", p_value)\n",
    "print(\"DoF:\", dof)"
   ]
  },
  {
   "cell_type": "markdown",
   "metadata": {},
   "source": [
    "### ✅ 4. Pearson Correlation (using `scipy.stats.pearsonr`)\n",
    "\n",
    "**Purpose:** Measure linear correlation between two continuous variables.\n",
    "\n",
    "**Dataset:** Penguins dataset again"
   ]
  },
  {
   "cell_type": "code",
   "execution_count": 8,
   "metadata": {},
   "outputs": [
    {
     "name": "stdout",
     "output_type": "stream",
     "text": [
      "Pearson correlation coefficient: 0.656181340746428\n",
      "p-value: 1.7439736176204127e-43\n"
     ]
    }
   ],
   "source": [
    "from scipy.stats import pearsonr\n",
    "\n",
    "# Drop NA\n",
    "data = penguins.dropna(subset=['bill_length_mm', 'flipper_length_mm'])\n",
    "\n",
    "# Pearson correlation\n",
    "corr, p_value = pearsonr(\n",
    "    data['bill_length_mm']\n",
    "    , data['flipper_length_mm']\n",
    ")\n",
    "\n",
    "print(\"Pearson correlation coefficient:\", corr)\n",
    "print(\"p-value:\", p_value)"
   ]
  },
  {
   "cell_type": "markdown",
   "metadata": {},
   "source": [
    "### ✅ 5. Spearman Correlation (using `scipy.stats.spearmanr`)\n",
    "\n",
    "**Purpose:** Measure monotonic relationship (non-parametric).\n",
    "\n",
    "**Dataset:** Penguins dataset"
   ]
  },
  {
   "cell_type": "code",
   "execution_count": 9,
   "metadata": {},
   "outputs": [
    {
     "name": "stdout",
     "output_type": "stream",
     "text": [
      "Spearman correlation coefficient: 0.6727719416255543\n",
      "p-value: 2.0669356276079494e-46\n"
     ]
    }
   ],
   "source": [
    "from scipy.stats import spearmanr\n",
    "\n",
    "# Spearman correlation\n",
    "corr, p_value = spearmanr(data['bill_length_mm'], data['flipper_length_mm'])\n",
    "\n",
    "print(\"Spearman correlation coefficient:\", corr)\n",
    "print(\"p-value:\", p_value)"
   ]
  },
  {
   "cell_type": "markdown",
   "metadata": {},
   "source": [
    "## ✅ Summary Table\n",
    "\n",
    "| Test | Library Used | Dataset | Columns |\n",
    "| --- | --- | --- | --- |\n",
    "| Chi-Squared | `scipy.stats` | Titanic | `sex`, `survived` |\n",
    "| Fisher's Exact | `scipy.stats` | Titanic (2x2) | `sex`, `survived` |\n",
    "| T-Test | `statsmodels.stats` | Penguins | `flipper_length_mm`, `species` |\n",
    "| Pearson Correlation | `scipy.stats` | Penguins | `bill_length_mm`, `flipper_length_mm` |\n",
    "| Spearman Correlation | `scipy.stats` | Penguins | `bill_length_mm`, `flipper_length_mm` |"
   ]
  },
  {
   "cell_type": "markdown",
   "metadata": {},
   "source": [
    "***But wait - theres moar!***"
   ]
  },
  {
   "cell_type": "markdown",
   "metadata": {},
   "source": [
    "### ✅ 6. **ANOVA (Analysis of Variance)**\n",
    "\n",
    "**Use case:** Compare **means across more than two groups**."
   ]
  },
  {
   "cell_type": "code",
   "execution_count": 11,
   "metadata": {},
   "outputs": [
    {
     "name": "stdout",
     "output_type": "stream",
     "text": [
      "F-statistic: 594.8016274385172\n",
      "p-value: 1.3517103385730013e-111\n"
     ]
    }
   ],
   "source": [
    "from scipy.stats import f_oneway\n",
    "\n",
    "group1 = penguins[penguins['species'] == 'Adelie']['flipper_length_mm']\n",
    "group2 = penguins[penguins['species'] == 'Chinstrap']['flipper_length_mm']\n",
    "group3 = penguins[penguins['species'] == 'Gentoo']['flipper_length_mm']\n",
    "\n",
    "f_stat, p = f_oneway(\n",
    "    group1, group2, group3\n",
    ")\n",
    "print(\"F-statistic:\", f_stat)\n",
    "print(\"p-value:\", p)"
   ]
  },
  {
   "cell_type": "markdown",
   "metadata": {},
   "source": [
    "### ✅ 7. **Shapiro-Wilk Test** (Normality check)\n",
    "\n",
    "**Use case:** Test if a sample comes from a **normal distribution**."
   ]
  },
  {
   "cell_type": "code",
   "execution_count": 12,
   "metadata": {},
   "outputs": [
    {
     "name": "stdout",
     "output_type": "stream",
     "text": [
      "Shapiro-Wilk statistic: 0.9515460133552551\n",
      "p-value: 3.541138271501154e-09\n"
     ]
    }
   ],
   "source": [
    "from scipy.stats import shapiro\n",
    "\n",
    "data = penguins['flipper_length_mm'].dropna()\n",
    "stat, p = shapiro(data)\n",
    "\n",
    "print(\"Shapiro-Wilk statistic:\", stat)\n",
    "print(\"p-value:\", p)"
   ]
  },
  {
   "cell_type": "code",
   "execution_count": 16,
   "metadata": {},
   "outputs": [
    {
     "data": {
      "image/png": "[encoded data removed]",
      "text/plain": [
       "<Figure size 640x480 with 1 Axes>"
      ]
     },
     "metadata": {},
     "output_type": "display_data"
    }
   ],
   "source": [
    "import seaborn as sns\n",
    "\n",
    "sns.kdeplot(data, fill=True);"
   ]
  },
  {
   "cell_type": "code",
   "execution_count": null,
   "metadata": {},
   "outputs": [],
   "source": []
  }
 ],
 "metadata": {
  "kernelspec": {
   "display_name": "Python 3 (ipykernel)",
   "language": "python",
   "name": "python3"
  },
  "language_info": {
   "codemirror_mode": {
    "name": "ipython",
    "version": 3
   },
   "file_extension": ".py",
   "mimetype": "text/x-python",
   "name": "python",
   "nbconvert_exporter": "python",
   "pygments_lexer": "ipython3",
   "version": "3.11.5"
  }
 },
 "nbformat": 4,
 "nbformat_minor": 4
}
